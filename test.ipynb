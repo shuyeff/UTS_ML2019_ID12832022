{
  "nbformat": 4,
  "nbformat_minor": 0,
  "metadata": {
    "colab": {
      "name": "test.ipynb",
      "version": "0.3.2",
      "provenance": [],
      "include_colab_link": true
    },
    "kernelspec": {
      "name": "python3",
      "display_name": "Python 3"
    }
  },
  "cells": [
    {
      "cell_type": "markdown",
      "metadata": {
        "id": "view-in-github",
        "colab_type": "text"
      },
      "source": [
        "<a href=\"https://colab.research.google.com/github/shuyeff/UTS_ML2019_ID12832022/blob/master/test.ipynb\" target=\"_parent\"><img src=\"https://colab.research.google.com/assets/colab-badge.svg\" alt=\"Open In Colab\"/></a>"
      ]
    },
    {
      "cell_type": "markdown",
      "metadata": {
        "id": "yfY9ZsXtnehn",
        "colab_type": "text"
      },
      "source": [
        " **Eigenfaces vs. Fisherfaces: Recognition\n",
        "Using Class Specific Linear Projection**"
      ]
    },
    {
      "cell_type": "markdown",
      "metadata": {
        "id": "Foi5TRMSngWz",
        "colab_type": "text"
      },
      "source": [
        "Face recognition is a hot topic today, but the changes in character expression, the intensity of light, the number and direction of light sources all have an impact on facial recognition. This Paper proposes a face recognition algorithm that is less affected by light direction and facial expression changes. A pattern classification approach is used to project each pixel of an image into a three-dimensional linear subspace based on Fisher's Linear Discriminant. A separation set is generated in the low subspace, and when the light and the expression change too much, the sensitivity to the change can be effectively reduced. The core content of the article is divided into two parts. The first part compares the three popular methods of face recognition pattern classification with the methods recommended by the author. These four techniques are: 1. Correlation: Simply speaking, it is equivalent to selecting the image most relevant to the test image in the learning set. The shortcomings are also obvious. The requirements for the learning set are too high. "
      ]
    },
    {
      "cell_type": "markdown",
      "metadata": {
        "id": "bLBTsZYnnnju",
        "colab_type": "text"
      },
      "source": [
        "When identifying, there are too many images to be associated, and the amount of calculation is too large. 2. Eigenfaces: principal components analysis (PCA), a computer vision dimensionality reduction technique. The disadvantage is that scattered scattering is unwanted information for classification purposes. 3. Linear Subspaces:\n",
        "Under the Lange's reflection model, it is possible to achieve a classification without errors and is immune to illumination."
      ]
    }
  ]
}