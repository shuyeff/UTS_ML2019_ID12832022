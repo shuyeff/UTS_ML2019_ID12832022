{
  "nbformat": 4,
  "nbformat_minor": 0,
  "metadata": {
    "colab": {
      "name": "A2 Code.ipynb",
      "provenance": [],
      "include_colab_link": true
    },
    "kernelspec": {
      "name": "python3",
      "display_name": "Python 3"
    }
  },
  "cells": [
    {
      "cell_type": "markdown",
      "metadata": {
        "id": "view-in-github",
        "colab_type": "text"
      },
      "source": [
        "<a href=\"https://colab.research.google.com/github/shuyeff/UTS_ML2019_ID12832022/blob/master/A2_Code.ipynb\" target=\"_parent\"><img src=\"https://colab.research.google.com/assets/colab-badge.svg\" alt=\"Open In Colab\"/></a>"
      ]
    },
    {
      "cell_type": "code",
      "metadata": {
        "id": "GmbigHveQk2W",
        "colab_type": "code",
        "outputId": "10d61037-0dcf-4b59-8728-3040b5205047",
        "colab": {
          "base_uri": "https://localhost:8080/",
          "height": 263
        }
      },
      "source": [
        "from keras.datasets import mnist\n",
        "from sklearn.neighbors import KNeighborsClassifier\n",
        "from sklearn.linear_model import LogisticRegression\n",
        "from sklearn.metrics import accuracy_score\n",
        "from sklearn import svm\n",
        "import time\n",
        "\n",
        "def KNN(x_train, y_train, x_test, y_test):\n",
        "\tstart = time.clock()\n",
        "\tx_train = x_train.reshape(60000, -1)\n",
        "\tx_test = x_test.reshape(10000, -1)\n",
        "\t# y_train = y_train[:1000]\n",
        "\t# y_test = y_test[:100]\n",
        "\tfor i, line in enumerate(x_train):\n",
        "\t\tfor j, cur in enumerate(line):\n",
        "\t\t\tif x_train[i][j] > 0:\n",
        "\t\t\t\tx_train[i][j] = 1\n",
        "\tfor i, line in enumerate(x_test):\n",
        "\t\tfor j, cur in enumerate(line):\n",
        "\t\t\tif x_test[i][j] > 0:\n",
        "\t\t\t\tx_test[i][j] = 1\n",
        "\t# train model\n",
        "\tknn = KNeighborsClassifier()\n",
        "\tknn.fit(x_train,y_train)\n",
        "\tresult = knn.predict(x_test)\n",
        "\tprint('KNN accuracy=', accuracy_score(y_test, result))\n",
        "\telapsed = (time.clock() - start)\n",
        "\tprint(\"KNN Time used:\",elapsed)\n",
        "\n",
        "\t\n",
        "def LR(x_train, y_train, x_test, y_test):\n",
        "\tstart = time.clock()\n",
        "\tx_train = x_train.reshape(60000, -1)\n",
        "\tx_test = x_test.reshape(10000, -1)\n",
        "\t# y_train = y_train[:1000]\n",
        "\t# y_test = y_test[:100]\n",
        "\tfor i, line in enumerate(x_train):\n",
        "\t\tfor j, cur in enumerate(line):\n",
        "\t\t\tif x_train[i][j] > 0:\n",
        "\t\t\t\tx_train[i][j] = 1\n",
        "\tfor i, line in enumerate(x_test):\n",
        "\t\tfor j, cur in enumerate(line):\n",
        "\t\t\tif x_test[i][j] > 0:\n",
        "\t\t\t\tx_test[i][j] = 1\n",
        "\tlr = LogisticRegression()\n",
        "\tlr.fit(x_train, y_train)\n",
        "\tresult = lr.predict(x_test)\n",
        "\tprint('LR accuracy=', accuracy_score(y_test, result))\n",
        "\telapsed = (time.clock() - start)\n",
        "\tprint(\"LR Time used:\",elapsed)\n",
        "\n",
        "def SVM(x_train, y_train, x_test, y_test):\n",
        "\tstart = time.clock()\n",
        "\tx_train = x_train.reshape(60000, 784).astype('float32')\n",
        "\tx_test = x_test.reshape(10000, 784).astype('float32')\n",
        "\tx_train = x_train / 255\n",
        "\tx_test = x_test / 255\n",
        "\tclf = svm.SVC(C=100.0, kernel='rbf', gamma=0.03)\n",
        "\tclf.fit(x_train, y_train)\n",
        "\tpredictions = [int(a) for a in clf.predict(x_test)]\n",
        "\tprint('SVM accuracy=', accuracy_score(y_test, predictions))\n",
        "\telapsed = (time.clock() - start)\n",
        "\tprint(\"SVM Time used:\",elapsed)\n",
        "\t\n",
        "if __name__ == '__main__':\n",
        "\t(x_train_image,y_train_label), (x_test_image,y_test_label) = mnist.load_data()\n",
        "\tKNN(x_train_image, y_train_label, x_test_image, y_test_label)\n",
        "\tLR(x_train_image, y_train_label, x_test_image, y_test_label)\n",
        "\tSVM(x_train_image, y_train_label, x_test_image, y_test_label)"
      ],
      "execution_count": 0,
      "outputs": [
        {
          "output_type": "stream",
          "text": [
            "Using TensorFlow backend.\n"
          ],
          "name": "stderr"
        },
        {
          "output_type": "stream",
          "text": [
            "Downloading data from https://s3.amazonaws.com/img-datasets/mnist.npz\n",
            "11493376/11490434 [==============================] - 1s 0us/step\n",
            "KNN accuracy= 0.9625\n",
            "KNN Time used: 1153.8497490000002\n"
          ],
          "name": "stdout"
        },
        {
          "output_type": "stream",
          "text": [
            "/usr/local/lib/python3.6/dist-packages/sklearn/linear_model/logistic.py:432: FutureWarning: Default solver will be changed to 'lbfgs' in 0.22. Specify a solver to silence this warning.\n",
            "  FutureWarning)\n",
            "/usr/local/lib/python3.6/dist-packages/sklearn/linear_model/logistic.py:469: FutureWarning: Default multi_class will be changed to 'auto' in 0.22. Specify the multi_class option to silence this warning.\n",
            "  \"this warning.\", FutureWarning)\n"
          ],
          "name": "stderr"
        },
        {
          "output_type": "stream",
          "text": [
            "LR accuracy= 0.9169\n",
            "LR Time used: 245.96409799999992\n",
            "SVM accuracy= 0.9049\n",
            "SVM Time used: 3774.1609439999993\n"
          ],
          "name": "stdout"
        }
      ]
    }
  ]
}