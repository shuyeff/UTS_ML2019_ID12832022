{
  "nbformat": 4,
  "nbformat_minor": 0,
  "metadata": {
    "colab": {
      "name": "A1.ipynb",
      "version": "0.3.2",
      "provenance": [],
      "include_colab_link": true
    },
    "kernelspec": {
      "name": "python3",
      "display_name": "Python 3"
    }
  },
  "cells": [
    {
      "cell_type": "markdown",
      "metadata": {
        "id": "view-in-github",
        "colab_type": "text"
      },
      "source": [
        "<a href=\"https://colab.research.google.com/github/shuyeff/UTS_ML2019_ID12832022/blob/master/A1.ipynb\" target=\"_parent\"><img src=\"https://colab.research.google.com/assets/colab-badge.svg\" alt=\"Open In Colab\"/></a>"
      ]
    },
    {
      "cell_type": "markdown",
      "metadata": {
        "id": "OdbAZfj_t-rS",
        "colab_type": "text"
      },
      "source": [
        "**Eigenfaces vs. Fisherfaces: Recognition\n",
        "Using Class Specific Linear Projection\n",
        "**"
      ]
    },
    {
      "cell_type": "markdown",
      "metadata": {
        "id": "-Qcd4PhMub1Z",
        "colab_type": "text"
      },
      "source": [
        "**Introduction:**\n",
        "This paper studied paper: BEL97. The content was summarized and the innovation and deficiency of the method proposed in the article were analyzed. The quality of the article was evaluated and the scenarios that this improved face recognition technique might apply were listed. Finally, the quality of the presentation of the paper is summarized."
      ]
    },
    {
      "cell_type": "markdown",
      "metadata": {
        "id": "-3xXy_BovqFg",
        "colab_type": "text"
      },
      "source": [
        "**Content:**\n",
        "Face recognition is a hot topic today, but changes in facial expressions, the intensity of light, the number and direction of light sources all affect face recognition. This Paper proposes a face recognition algorithm that is less affected by light direction and facial expression changes. Pattern classification approach is adopted. Based on Fisher's Linear Discriminant, each pixel of the image is projected to a three-dimensional Linear subspace. When the light and expression change too much, the separation set in the low space can effectively reduce the sensitivity to the change. The core content of this paper is divided into two parts. In the first part, three popular face recognition pattern classification technologies are compared with the methods recommended by the author. These three methods are: \n",
        "Correlation: simply put, it is equivalent to selecting the image most relevant to the test image in the learning concentration. The disadvantages are also obvious. The requirements for learning sets are too high. In recognition, there are too many associated images and too much computation. \n",
        "Eigenfaces: principal components analysis (PCA), a dimensionality reduction technique for computer vision. The disadvantage is that scattering is unnecessary information for classification purposes. \n",
        "The Linear Subspaces: Under the lamber reflection model, the classification without error and without interference by light can be realized. In the second part, each face recognition technology is discussed by using two different databases, and some improvement schemes are tested. And draw a conclusion:\n",
        "In the case of simultaneous processing of illumination factors and expression changes, the Fisherface method is the best choice. In addition, the verification shows that removing the three largest principal components is helpful to improve the performance of the Fisherface method under the condition of light change, while when training set and test set are similar, all the four methods perform well.\n"
      ]
    },
    {
      "cell_type": "markdown",
      "metadata": {
        "id": "jveFKJnZvxVK",
        "colab_type": "text"
      },
      "source": [
        "**Innovation:**\n",
        "Although this article lists four methods, the actual focus is to compare the Eigenface technique with the Fisherfaces technique to highlight the superiority of the Fisherface method.The author's general innovative ideas are: using class-specific linear dimensionality reduction methods and simple classifiers in the dimension reduction feature space to obtain better recognition rates than linear subspace methods and feature surface methods.\n",
        "Considering the huge amount of computing and storage space, you need to create a new dimension reduction solution. Through the linear transformation, the original n-dimensional image space is mapped to the m-dimensional feature space, and m < n is guaranteed to generate a new feature vector. By appropriate selection, the scattering ratio within the class and class is maximized. Next, reduce the complexity of individual elements by looking for a standard alternative. This method is Fisherfaces. Set the image to a lower dimensional space so that the scattering matrix SW within the class is non-singular. Reduce the dimension of the feature space to N - c by using PCA, then apply FLD to reduce the dimension to c - 1\n",
        "The n ' (n - c) matrix with standard orthogonal columns is optimized, and the (f - c) m matrix with standard orthogonal columns is optimized for Wfld. The authors also propose other ideas for reducing intra-class dispersion. For example, after the first reduction of intra-class scattering, W is selected to maximize the inter-class scattering of the projected samples.\n",
        "In addition, the author also puts forward some hypotheses: when the illumination is variable, the face recognition algorithm will perform better based on the Lambertian surface image in the linear subspace. When using class-specific projection methods, learning sets can be divided into classes in different ways.In the experimental section, verification and calculation of vision and control operations were performed."
      ]
    },
    {
      "cell_type": "markdown",
      "metadata": {
        "id": "SOgXPN-MN9KE",
        "colab_type": "text"
      },
      "source": [
        "**Technical quality:**\n",
        "This article has a moderate level of technical quality. First, the principles of each scheme are explained in more detail. The principles on which Fisherfaces is based are also described in detail. And the rigorous experiment to verify the superiority of Fisherface. For example, in the Lighting Direction Subset, the error rates of Fisherface in Subset1, Subset2, and Subset3 are 0.0, 0.0, and 4.6, respectively, while the average Error Rate of Eigenface in Reduced Space 4 is\n",
        "At around 30%. In the Number of Principal Components, Fisherface's Error Rate is only 7.3%, which is the lowest of the three methods. This all shows that the Fisherface method is the best way to handle both lighting and expression changes. However, fewer samples are not fully representative and the actual error may be greater than the error of the Training set. Just using the Error Rate as the reference data is too singular. In addition, the article only proposes an improved solution. Many of the ideas are based on existing materials or solutions proposed by others. They only verify some of the ideas through experiments and highlight their superiority by comparing them with other methods, but they are not very innovative.\n"
      ]
    },
    {
      "cell_type": "markdown",
      "metadata": {
        "id": "7sCgNJP2Sm2u",
        "colab_type": "text"
      },
      "source": [
        "**Application and X-factor:**\n",
        "The main purpose of the facial recognition technology proposed in this paper is to avoid the influence of illumination factors and facial expression changes. According to the experimentally tested Error rate data, when the image similarity between the test set and the training set is not considered. The proposed scheme is the best choice. For the further development of the research work, I propose two suggestions: First, the experimental objectives can be further expanded, and test samples can be added to further verify the accuracy. Second, test the algorithm in an extreme environment (such as the shadow dominated environment).\n",
        "The techniques mentioned in this paper can be widely used in many fields. For example, in the field of criminal investigation, such image recognition technology that is less interfered by external factors can be used to distinguish criminals.\n",
        "However, the work described in the paper does not lead to a high quality discussion, as these problems can only be proved by experimental verification.\n"
      ]
    },
    {
      "cell_type": "markdown",
      "metadata": {
        "id": "j_61yg5MWq5e",
        "colab_type": "text"
      },
      "source": [
        "**Presentation:**\n",
        "This article has a high quality of presentation. Even readers who have never been exposed to facial recognition algorithms can understand most of the meaning of the article. The arguments in this paper are very clear, and the whole article revolves around the topic of comparing the new method and the existing method. The structure of the article is clear, the style of the speech is easy to understand, and the statement is clear. First introduce the basic facial recognition method, and then add the improved content step by step, which is very easy to understand."
      ]
    },
    {
      "cell_type": "markdown",
      "metadata": {
        "id": "ho4wRwWZYViY",
        "colab_type": "text"
      },
      "source": [
        "**References:**\n",
        "Belhumeur, P.N., Hespanha, J.P. & Kriegman, D.J. 1997, 'Eigenfaces vs. fisherfaces: Recognition using class specific linear projection', IEEE Transactions on Pattern Analysis & Machine Intelligence, no. 7, pp. 711-20.\n",
        "\n",
        "Kim, Y.-H., Martínez, A.M. & Kak, A.C. 2005, 'Robust motion estimation under varying illumination', Image and Vision Computing, vol. 23, no. 4, pp. 365-75.\n",
        "\n",
        "Y. Cheng, K. Liu, J. Yang, Y. Zhuang, and N. Gu, “Human Face Recognition Method Based on the Statistical Model of Small Sample Size,” SPIE Proc. Intelligent Robots and Computer Vision X: Algorithms and Technology, 1991, pp. 85-95.\n"
      ]
    }
  ]
}